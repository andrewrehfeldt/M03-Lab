{
 "cells": [
  {
   "cell_type": "code",
   "execution_count": null,
   "metadata": {},
   "outputs": [],
   "source": [
    "class Vehicle():\n",
    "\n",
    "    def __init__(self, type):\n",
    "        self.type = type\n",
    "       \n",
    "        \n",
    "    def exclaim(self):\n",
    "        return \"Vehicle type: \" + self.type\n",
    "\n",
    " \n",
    "class Automobile(Vehicle):\n",
    "\n",
    "\t\n",
    "    def __init__(self, type, year, make, model, ndoors, roof_type):\n",
    "        super().__init__(type)\n",
    "        self.year = year\n",
    "        self.make = make\n",
    "        self.model = model\n",
    "        self.ndoors = ndoors\n",
    "        self.roof_type = roof_type\n",
    "        \n",
    "\t\n",
    "        \n",
    "\t\n",
    "    \n",
    "\n",
    "vehicleType = input(\" Please enter the type of vehicle: \")\t\n",
    "vehicleYear = input(\"Please enter the vehicles year: \")\n",
    "vehicleMake = input(\"Please enter the vehicles make: \")\n",
    "vehicleModel = input(\"Please enter the vehicle's model: \")\n",
    "vehiclenumDoors = input(\"Please enter the number of doors the vehicle has: \")\n",
    "vehicleRoofType = input(\"Please enter the vehicle's roof type (Flat or Sunroof): \")\n",
    "\n",
    "\n",
    "mycar = Automobile(vehicleType, vehicleYear, vehicleMake, vehicleModel, vehiclenumDoors, vehicleRoofType)\t\n",
    "\n",
    "\n",
    "print(\"Vehicle Type: \" , mycar.type)\n",
    "print(\"Vehicle Year: \" , mycar.year)\n",
    "print(\"Vehicle Make: \" , mycar.make)\n",
    "print(\"Vehicle Model: \" , mycar.model)\n",
    "print(\"Number of Doors on Vehicle: \" , mycar.ndoors)\n",
    "print(\"Vehicle's roof type: \" , mycar.roof_type)"
   ]
  }
 ],
 "metadata": {
  "language_info": {
   "name": "python"
  },
  "orig_nbformat": 4
 },
 "nbformat": 4,
 "nbformat_minor": 2
}
